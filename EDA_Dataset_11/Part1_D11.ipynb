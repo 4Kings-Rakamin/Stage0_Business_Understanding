{
 "cells": [
  {
   "cell_type": "markdown",
   "metadata": {},
   "source": [
    "## `Dataset 11`\n",
    "\n",
    "Nama Dataset : HR Analytics, Predicting Candidate Hiring Decisions\n",
    "\n",
    "Goals : Identify the key factors influencing recruitment decisions and build a classification prediction model using supervised learning to determine which candidates are eligible for hiring.\n",
    "\n",
    "About Dataset : The company has thousands of employees with diverse levels of performance, job satisfaction, and development needs. Currently, it struggles to identify potential employee groups for talent development programs and leadership pipelines. Without data-driven segmentation, training and development initiatives are often misaligned, making HR investments less effective."
   ]
  },
  {
   "cell_type": "code",
   "execution_count": 1,
   "metadata": {},
   "outputs": [],
   "source": [
    "import pandas as pd\n",
    "import numpy as np\n",
    "import matplotlib.pyplot as plt\n",
    "import seaborn as sns"
   ]
  },
  {
   "cell_type": "code",
   "execution_count": 2,
   "metadata": {},
   "outputs": [],
   "source": [
    "df = pd.read_csv('D:\\FP_Repository\\Stage0_Business_Understanding\\EDA_Dataset_11\\Rakamin Bootcamp - Dataset - Recruitment Dataset.csv')"
   ]
  },
  {
   "cell_type": "code",
   "execution_count": 3,
   "metadata": {},
   "outputs": [
    {
     "name": "stdout",
     "output_type": "stream",
     "text": [
      "<class 'pandas.core.frame.DataFrame'>\n",
      "RangeIndex: 1000 entries, 0 to 999\n",
      "Data columns (total 10 columns):\n",
      " #   Column                   Non-Null Count  Dtype  \n",
      "---  ------                   --------------  -----  \n",
      " 0   Candidate_ID             1000 non-null   object \n",
      " 1   Age                      950 non-null    float64\n",
      " 2   Education_Level          950 non-null    object \n",
      " 3   Years_of_Experience      950 non-null    float64\n",
      " 4   Skill_Score              950 non-null    float64\n",
      " 5   Interview_Score          950 non-null    float64\n",
      " 6   Previous_Company_Rating  950 non-null    float64\n",
      " 7   Expected_Salary          950 non-null    float64\n",
      " 8   Cultural_Fit_Score       950 non-null    float64\n",
      " 9   Selected                 950 non-null    float64\n",
      "dtypes: float64(8), object(2)\n",
      "memory usage: 78.2+ KB\n"
     ]
    }
   ],
   "source": [
    "df.info()"
   ]
  },
  {
   "cell_type": "code",
   "execution_count": 4,
   "metadata": {},
   "outputs": [
    {
     "data": {
      "text/html": [
       "<div>\n",
       "<style scoped>\n",
       "    .dataframe tbody tr th:only-of-type {\n",
       "        vertical-align: middle;\n",
       "    }\n",
       "\n",
       "    .dataframe tbody tr th {\n",
       "        vertical-align: top;\n",
       "    }\n",
       "\n",
       "    .dataframe thead th {\n",
       "        text-align: right;\n",
       "    }\n",
       "</style>\n",
       "<table border=\"1\" class=\"dataframe\">\n",
       "  <thead>\n",
       "    <tr style=\"text-align: right;\">\n",
       "      <th></th>\n",
       "      <th>Candidate_ID</th>\n",
       "      <th>Age</th>\n",
       "      <th>Education_Level</th>\n",
       "      <th>Years_of_Experience</th>\n",
       "      <th>Skill_Score</th>\n",
       "      <th>Interview_Score</th>\n",
       "      <th>Previous_Company_Rating</th>\n",
       "      <th>Expected_Salary</th>\n",
       "      <th>Cultural_Fit_Score</th>\n",
       "      <th>Selected</th>\n",
       "    </tr>\n",
       "  </thead>\n",
       "  <tbody>\n",
       "    <tr>\n",
       "      <th>0</th>\n",
       "      <td>CND0001</td>\n",
       "      <td>24.0</td>\n",
       "      <td>High School</td>\n",
       "      <td>17.0</td>\n",
       "      <td>7.0</td>\n",
       "      <td>27.0</td>\n",
       "      <td>4.0</td>\n",
       "      <td>12554.0</td>\n",
       "      <td>68.0</td>\n",
       "      <td>1.0</td>\n",
       "    </tr>\n",
       "    <tr>\n",
       "      <th>1</th>\n",
       "      <td>CND0002</td>\n",
       "      <td>37.0</td>\n",
       "      <td>High School</td>\n",
       "      <td>14.0</td>\n",
       "      <td>23.0</td>\n",
       "      <td>76.0</td>\n",
       "      <td>4.0</td>\n",
       "      <td>18486.0</td>\n",
       "      <td>22.0</td>\n",
       "      <td>0.0</td>\n",
       "    </tr>\n",
       "    <tr>\n",
       "      <th>2</th>\n",
       "      <td>CND0003</td>\n",
       "      <td>46.0</td>\n",
       "      <td>High School</td>\n",
       "      <td>1.0</td>\n",
       "      <td>91.0</td>\n",
       "      <td>78.0</td>\n",
       "      <td>2.0</td>\n",
       "      <td>11205.0</td>\n",
       "      <td>52.0</td>\n",
       "      <td>1.0</td>\n",
       "    </tr>\n",
       "    <tr>\n",
       "      <th>3</th>\n",
       "      <td>CND0004</td>\n",
       "      <td>32.0</td>\n",
       "      <td>PhD</td>\n",
       "      <td>9.0</td>\n",
       "      <td>40.0</td>\n",
       "      <td>86.0</td>\n",
       "      <td>5.0</td>\n",
       "      <td>13653.0</td>\n",
       "      <td>36.0</td>\n",
       "      <td>0.0</td>\n",
       "    </tr>\n",
       "    <tr>\n",
       "      <th>4</th>\n",
       "      <td>CND0005</td>\n",
       "      <td>28.0</td>\n",
       "      <td>Master</td>\n",
       "      <td>11.0</td>\n",
       "      <td>35.0</td>\n",
       "      <td>43.0</td>\n",
       "      <td>4.0</td>\n",
       "      <td>16182.0</td>\n",
       "      <td>8.0</td>\n",
       "      <td>0.0</td>\n",
       "    </tr>\n",
       "  </tbody>\n",
       "</table>\n",
       "</div>"
      ],
      "text/plain": [
       "  Candidate_ID   Age Education_Level  Years_of_Experience  Skill_Score  \\\n",
       "0      CND0001  24.0     High School                 17.0          7.0   \n",
       "1      CND0002  37.0     High School                 14.0         23.0   \n",
       "2      CND0003  46.0     High School                  1.0         91.0   \n",
       "3      CND0004  32.0             PhD                  9.0         40.0   \n",
       "4      CND0005  28.0          Master                 11.0         35.0   \n",
       "\n",
       "   Interview_Score  Previous_Company_Rating  Expected_Salary  \\\n",
       "0             27.0                      4.0          12554.0   \n",
       "1             76.0                      4.0          18486.0   \n",
       "2             78.0                      2.0          11205.0   \n",
       "3             86.0                      5.0          13653.0   \n",
       "4             43.0                      4.0          16182.0   \n",
       "\n",
       "   Cultural_Fit_Score  Selected  \n",
       "0                68.0       1.0  \n",
       "1                22.0       0.0  \n",
       "2                52.0       1.0  \n",
       "3                36.0       0.0  \n",
       "4                 8.0       0.0  "
      ]
     },
     "execution_count": 4,
     "metadata": {},
     "output_type": "execute_result"
    }
   ],
   "source": [
    "df.head()"
   ]
  },
  {
   "cell_type": "markdown",
   "metadata": {},
   "source": [
    "\n",
    "`Berikut List Fitur :`\n",
    "- Candidate_ID: ID unik untuk tiap kandidat\n",
    "- Age: Usia kandidat\n",
    "- Education_Level: Tingkat pendidikan terakhir kandidat\n",
    "- Years_of_Experience: Lama pengalaman kerja (tahun)\n",
    "- Skill_Score: Skor kemampuan teknis (0–100)\n",
    "- Interview_Score: Skor hasil interview (0–100)\n",
    "- Previous_Company_Rating: Rating perusahaan sebelumnya (1–5)\n",
    "- Expected_Salary: Gaji yang diharapkan kandidat (IDR)\n",
    "- Cultural_Fit_Score: Skor kecocokan budaya kerja (0–100)\n",
    "\n",
    "Label Target :\n",
    "- Selected: Label target: 1 = diterima, 0 = tidak diterima\n"
   ]
  },
  {
   "cell_type": "code",
   "execution_count": null,
   "metadata": {},
   "outputs": [],
   "source": []
  }
 ],
 "metadata": {
  "kernelspec": {
   "display_name": ".venv",
   "language": "python",
   "name": "python3"
  },
  "language_info": {
   "codemirror_mode": {
    "name": "ipython",
    "version": 3
   },
   "file_extension": ".py",
   "mimetype": "text/x-python",
   "name": "python",
   "nbconvert_exporter": "python",
   "pygments_lexer": "ipython3",
   "version": "3.9.12"
  }
 },
 "nbformat": 4,
 "nbformat_minor": 2
}
