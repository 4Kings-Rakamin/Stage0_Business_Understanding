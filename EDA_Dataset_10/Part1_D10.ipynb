{
 "cells": [
  {
   "cell_type": "markdown",
   "metadata": {},
   "source": [
    "## `Dataset 10`\n",
    "\n",
    "Nama Dataset : Employee Career Advancement Prediction Data\n",
    "\n",
    "Goals : Identifying the most influential factors in promotion decisions and building a classification prediction model using supervised learning to predict which employees are eligible for promotion.\n",
    "\n",
    "About Dataset : The company faces challenges in determining which employees are eligible for promotion. Traditionally, promotion decisions have often been subjective, relying heavily on manual evaluations by managers. This approach can lead to bias, lack of transparency, and the potential loss of high-performing employees. By leveraging historical employee data, the company can build a classification model to predict promotion eligibility based on factors such as performance, experience, leadership, and participation in training or projects."
   ]
  },
  {
   "cell_type": "code",
   "execution_count": 2,
   "metadata": {},
   "outputs": [],
   "source": [
    "import pandas as pd\n",
    "import numpy as np\n",
    "import matplotlib.pyplot as plt\n",
    "import seaborn as sns"
   ]
  },
  {
   "cell_type": "code",
   "execution_count": 3,
   "metadata": {},
   "outputs": [],
   "source": [
    "df = pd.read_csv(r'D:\\FP_Repository\\Stage0_Business_Understanding\\EDA_Dataset_10\\Rakamin Bootcamp - Dataset - Promotion Dataset.csv')"
   ]
  },
  {
   "cell_type": "code",
   "execution_count": 4,
   "metadata": {},
   "outputs": [
    {
     "name": "stdout",
     "output_type": "stream",
     "text": [
      "<class 'pandas.core.frame.DataFrame'>\n",
      "RangeIndex: 1000 entries, 0 to 999\n",
      "Data columns (total 10 columns):\n",
      " #   Column                  Non-Null Count  Dtype  \n",
      "---  ------                  --------------  -----  \n",
      " 0   Employee_ID             1000 non-null   object \n",
      " 1   Age                     950 non-null    float64\n",
      " 2   Years_at_Company        951 non-null    float64\n",
      " 3   Performance_Score       950 non-null    float64\n",
      " 4   Leadership_Score        950 non-null    float64\n",
      " 5   Training_Hours          950 non-null    float64\n",
      " 6   Projects_Handled        950 non-null    float64\n",
      " 7   Peer_Review_Score       950 non-null    float64\n",
      " 8   Current_Position_Level  950 non-null    object \n",
      " 9   Promotion_Eligible      950 non-null    float64\n",
      "dtypes: float64(8), object(2)\n",
      "memory usage: 78.2+ KB\n"
     ]
    }
   ],
   "source": [
    "df.info()"
   ]
  },
  {
   "cell_type": "code",
   "execution_count": 5,
   "metadata": {},
   "outputs": [
    {
     "data": {
      "text/html": [
       "<div>\n",
       "<style scoped>\n",
       "    .dataframe tbody tr th:only-of-type {\n",
       "        vertical-align: middle;\n",
       "    }\n",
       "\n",
       "    .dataframe tbody tr th {\n",
       "        vertical-align: top;\n",
       "    }\n",
       "\n",
       "    .dataframe thead th {\n",
       "        text-align: right;\n",
       "    }\n",
       "</style>\n",
       "<table border=\"1\" class=\"dataframe\">\n",
       "  <thead>\n",
       "    <tr style=\"text-align: right;\">\n",
       "      <th></th>\n",
       "      <th>Employee_ID</th>\n",
       "      <th>Age</th>\n",
       "      <th>Years_at_Company</th>\n",
       "      <th>Performance_Score</th>\n",
       "      <th>Leadership_Score</th>\n",
       "      <th>Training_Hours</th>\n",
       "      <th>Projects_Handled</th>\n",
       "      <th>Peer_Review_Score</th>\n",
       "      <th>Current_Position_Level</th>\n",
       "      <th>Promotion_Eligible</th>\n",
       "    </tr>\n",
       "  </thead>\n",
       "  <tbody>\n",
       "    <tr>\n",
       "      <th>0</th>\n",
       "      <td>EMP0001</td>\n",
       "      <td>24.0</td>\n",
       "      <td>21.0</td>\n",
       "      <td>2.0</td>\n",
       "      <td>44.0</td>\n",
       "      <td>42.0</td>\n",
       "      <td>19.0</td>\n",
       "      <td>61.0</td>\n",
       "      <td>Junior</td>\n",
       "      <td>0.0</td>\n",
       "    </tr>\n",
       "    <tr>\n",
       "      <th>1</th>\n",
       "      <td>EMP0002</td>\n",
       "      <td>50.0</td>\n",
       "      <td>8.0</td>\n",
       "      <td>5.0</td>\n",
       "      <td>45.0</td>\n",
       "      <td>66.0</td>\n",
       "      <td>11.0</td>\n",
       "      <td>6.0</td>\n",
       "      <td>Junior</td>\n",
       "      <td>0.0</td>\n",
       "    </tr>\n",
       "    <tr>\n",
       "      <th>2</th>\n",
       "      <td>EMP0003</td>\n",
       "      <td>56.0</td>\n",
       "      <td>9.0</td>\n",
       "      <td>5.0</td>\n",
       "      <td>19.0</td>\n",
       "      <td>96.0</td>\n",
       "      <td>6.0</td>\n",
       "      <td>86.0</td>\n",
       "      <td>Lead</td>\n",
       "      <td>0.0</td>\n",
       "    </tr>\n",
       "    <tr>\n",
       "      <th>3</th>\n",
       "      <td>EMP0004</td>\n",
       "      <td>39.0</td>\n",
       "      <td>24.0</td>\n",
       "      <td>4.0</td>\n",
       "      <td>51.0</td>\n",
       "      <td>16.0</td>\n",
       "      <td>6.0</td>\n",
       "      <td>52.0</td>\n",
       "      <td>Senior</td>\n",
       "      <td>0.0</td>\n",
       "    </tr>\n",
       "    <tr>\n",
       "      <th>4</th>\n",
       "      <td>EMP0005</td>\n",
       "      <td>41.0</td>\n",
       "      <td>NaN</td>\n",
       "      <td>4.0</td>\n",
       "      <td>64.0</td>\n",
       "      <td>57.0</td>\n",
       "      <td>16.0</td>\n",
       "      <td>59.0</td>\n",
       "      <td>Junior</td>\n",
       "      <td>0.0</td>\n",
       "    </tr>\n",
       "  </tbody>\n",
       "</table>\n",
       "</div>"
      ],
      "text/plain": [
       "  Employee_ID   Age  Years_at_Company  Performance_Score  Leadership_Score  \\\n",
       "0     EMP0001  24.0              21.0                2.0              44.0   \n",
       "1     EMP0002  50.0               8.0                5.0              45.0   \n",
       "2     EMP0003  56.0               9.0                5.0              19.0   \n",
       "3     EMP0004  39.0              24.0                4.0              51.0   \n",
       "4     EMP0005  41.0               NaN                4.0              64.0   \n",
       "\n",
       "   Training_Hours  Projects_Handled  Peer_Review_Score Current_Position_Level  \\\n",
       "0            42.0              19.0               61.0                 Junior   \n",
       "1            66.0              11.0                6.0                 Junior   \n",
       "2            96.0               6.0               86.0                   Lead   \n",
       "3            16.0               6.0               52.0                 Senior   \n",
       "4            57.0              16.0               59.0                 Junior   \n",
       "\n",
       "   Promotion_Eligible  \n",
       "0                 0.0  \n",
       "1                 0.0  \n",
       "2                 0.0  \n",
       "3                 0.0  \n",
       "4                 0.0  "
      ]
     },
     "execution_count": 5,
     "metadata": {},
     "output_type": "execute_result"
    }
   ],
   "source": [
    "df.head()"
   ]
  },
  {
   "cell_type": "markdown",
   "metadata": {},
   "source": [
    "\n",
    "`Berikut list fitur :`\n",
    "1. Employee_ID: Unique identifier for each employee.\n",
    "2. Age: Age of the employee.\n",
    "3. Years_at_Company: Number of years the employee has been with the company.\n",
    "4. Performance_Score: Annual performance rating of the employee \n",
    "5. Leadership_Score: Rating of the employee's leadership skills \n",
    "6. Training_Hours: Total hours of training completed by the employee.\n",
    "7. Projects_Handled: Number of projects the employee has managed or contributed to.\n",
    "8. Peer_Review_Score: Average score from peer reviews\n",
    "9. Current_Position_Level: Current job level of the employee (e.g., Junior, Mid, Senior).\n",
    "\n",
    "Label Target :\n",
    "10. Promotion_Eligible: Binary indicator (1 for eligible, 0 for not eligible).\n",
    "\n",
    "\n",
    "Kolom,Deskripsi\n",
    "- Employee_ID,ID unik untuk tiap karyawan\n",
    "- Age,Usia karyawan (terdapat missing & anomali)\n",
    "- Years_at_Company,Lama bekerja di perusahaan (tahun)\n",
    "- Performance_Score,Skor performa tahunan (1–5)\n",
    "- Leadership_Score,Skor kepemimpinan (0–100)\n",
    "- Training_Hours,Jumlah jam pelatihan yang diikuti karyawan\n",
    "- Projects_Handled,Jumlah proyek yang pernah ditangani\n",
    "- Peer_Review_Score,Skor penilaian rekan kerja (0–100)\n",
    "- Current_Position_Level,\"Level jabatan saat ini (Junior, Mid, Senior, Lead)\"\n",
    "- Promotion_Eligible,\"Label target: 1 = eligible dipromosikan, 0 = tidak eligible\""
   ]
  },
  {
   "cell_type": "code",
   "execution_count": null,
   "metadata": {},
   "outputs": [],
   "source": []
  }
 ],
 "metadata": {
  "kernelspec": {
   "display_name": ".venv",
   "language": "python",
   "name": "python3"
  },
  "language_info": {
   "codemirror_mode": {
    "name": "ipython",
    "version": 3
   },
   "file_extension": ".py",
   "mimetype": "text/x-python",
   "name": "python",
   "nbconvert_exporter": "python",
   "pygments_lexer": "ipython3",
   "version": "3.9.12"
  }
 },
 "nbformat": 4,
 "nbformat_minor": 2
}
